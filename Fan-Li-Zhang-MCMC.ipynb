{
 "cells": [
  {
   "cell_type": "markdown",
   "metadata": {},
   "source": [
    "# Bayesian Portfolio Optimization using MCMC\n",
    "**Authors**\n",
    "- Jingyi Fan, jf4258@nyu.edu, N15191508\n",
    "- Tianyu Li, tl3472@nyu.edu, N18586573\n",
    "- Wenxin Zhang, wz2127@nyu.edu, N15067695\n"
   ]
  },
  {
   "cell_type": "markdown",
   "metadata": {},
   "source": [
    "## Part 1: Portfolio optimization problem by using Monte Carlo simulation \n",
    "- Choose 30-40 stocks\n",
    "- Find the most optimal portfolio weight and corresponding expected return\n",
    "- Graph: Efficient Frontier with 3 portfolio (min risk, optimal, max return)\n"
   ]
  },
  {
   "cell_type": "markdown",
   "metadata": {},
   "source": [
    "## Part 2: MCMC\n",
    "- Theoretical foundation\n",
    "- Use Metropolis Algorithm to find the  posterior distribution as histogram\n",
    "- Graph: resulting posterior distribution \n",
    "\n",
    "Sample Graph:\n",
    "\n",
    "![SamplePosterior.png](SamplePosterior.png)\n",
    "\n",
    "Compare the optimal stock return from Monte Carlo and from MCMC distribution."
   ]
  },
  {
   "cell_type": "markdown",
   "metadata": {},
   "source": [
    "**References**\n",
    "- https://github.com/NourozR/Stock-Price-Prediction-LSTM/blob/master/StockPricePrediction.py\n",
    "- https://www.datacamp.com/community/tutorials/lstm-python-stock-market\n",
    "- https://towardsdatascience.com/markov-chain-monte-carlo-in-python-44f7e609be98"
   ]
  },
  {
   "cell_type": "markdown",
   "metadata": {},
   "source": [
    "## Data\n",
    "- Source: Daily returns data from CRSP database from WRDS, \n",
    "- Variable: permno (company code), date, ret (return of the stock)\n",
    "- Sample: we only keep companies from S&P 500 index."
   ]
  },
  {
   "cell_type": "markdown",
   "metadata": {},
   "source": []
  }
 ],
 "metadata": {
  "kernelspec": {
   "display_name": "Python 3.8.8 ('base')",
   "language": "python",
   "name": "python3"
  },
  "language_info": {
   "codemirror_mode": {
    "name": "ipython",
    "version": 3
   },
   "file_extension": ".py",
   "mimetype": "text/x-python",
   "name": "python",
   "nbconvert_exporter": "python",
   "pygments_lexer": "ipython3",
   "version": "3.8.8"
  },
  "orig_nbformat": 4,
  "vscode": {
   "interpreter": {
    "hash": "40d3a090f54c6569ab1632332b64b2c03c39dcf918b08424e98f38b5ae0af88f"
   }
  }
 },
 "nbformat": 4,
 "nbformat_minor": 2
}
