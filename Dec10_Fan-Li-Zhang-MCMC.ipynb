{
 "cells": [
  {
   "cell_type": "markdown",
   "metadata": {},
   "source": [
    "# Bayesian Portfolio Optimization using MCMC\n",
    "**Authors**\n",
    "- Jingyi Fan, jf4258@nyu.edu, N15191508\n",
    "- Tianyu Li, tl3472@nyu.edu, N18586573\n",
    "- Wenxin Zhang, wz2127@nyu.edu, N15067695\n"
   ]
  },
  {
   "cell_type": "markdown",
   "metadata": {},
   "source": [
    "## Part 1: Portfolio optimization problem by using Monte Carlo simulation \n",
    "- Choose 30-40 stocks\n",
    "- Find the most optimal portfolio weight and corresponding expected return\n",
    "- Graph: Efficient Frontier with 3 portfolio (min risk, optimal, max return)\n"
   ]
  },
  {
   "cell_type": "markdown",
   "metadata": {},
   "source": [
    "## Part 2: MCMC\n",
    "- Theoretical foundation\n",
    "- Use Metropolis Algorithm to find the  posterior distribution as histogram\n",
    "- Graph: resulting posterior distribution \n",
    "\n",
    "Sample Graph:\n",
    "\n",
    "![SamplePosterior.png](SamplePosterior.png)\n",
    "\n",
    "Compare the optimal stock return from Monte Carlo and from MCMC distribution."
   ]
  },
  {
   "cell_type": "markdown",
   "metadata": {},
   "source": [
    "**References**\n",
    "- https://github.com/NourozR/Stock-Price-Prediction-LSTM/blob/master/StockPricePrediction.py\n",
    "- https://www.datacamp.com/community/tutorials/lstm-python-stock-market\n",
    "- https://towardsdatascience.com/markov-chain-monte-carlo-in-python-44f7e609be98"
   ]
  },
  {
   "cell_type": "markdown",
   "metadata": {},
   "source": [
    "## Data\n",
    "- Source: Daily returns data from CRSP database from WRDS, \n",
    "- Variable: permno (company code), date, ret (return of the stock)\n",
    "- Sample: we only keep companies from S&P 500 index."
   ]
  },
  {
   "cell_type": "code",
   "execution_count": 34,
   "metadata": {},
   "outputs": [],
   "source": [
    "import pandas as pd\n",
    "import yfinance as yf\n",
    "import statsmodels.api as sm\n",
    "import getFamaFrenchFactors as gff\n",
    "\n",
    "import arviz as az\n",
    "import matplotlib.pyplot as plt\n",
    "import numpy as np\n",
    "import pymc3 as pm\n",
    "\n",
    "%matplotlib inline"
   ]
  },
  {
   "attachments": {},
   "cell_type": "markdown",
   "metadata": {},
   "source": [
    "## Data"
   ]
  },
  {
   "cell_type": "code",
   "execution_count": 35,
   "metadata": {},
   "outputs": [
    {
     "name": "stdout",
     "output_type": "stream",
     "text": [
      "[*********************100%***********************]  1 of 1 completed\n"
     ]
    }
   ],
   "source": [
    "ticker = 'aapl'\n",
    "start = '2000-1-1'\n",
    "end = '2022-12-10'\n",
    "\n",
    "stock_data = yf.download(ticker, start, end, adjusted=True)\n",
    "\n",
    "ff3_monthly = gff.famaFrench3Factor(frequency='m')\n",
    "ff3_monthly.rename(columns={\"date_ff_factors\": 'Date',\"Mkt-RF\": \"Mkt_RF\"}, inplace=True)\n",
    "ff3_monthly.set_index('Date', inplace=True)"
   ]
  },
  {
   "cell_type": "code",
   "execution_count": 36,
   "metadata": {},
   "outputs": [],
   "source": [
    "stock_returns = stock_data['Adj Close'].resample('M').last().pct_change().dropna()\n",
    "stock_returns.name = \"aapl\"\n",
    "ff_data = ff3_monthly.merge(stock_returns,on='Date')"
   ]
  },
  {
   "cell_type": "code",
   "execution_count": 37,
   "metadata": {},
   "outputs": [
    {
     "data": {
      "text/html": [
       "<div>\n",
       "<style scoped>\n",
       "    .dataframe tbody tr th:only-of-type {\n",
       "        vertical-align: middle;\n",
       "    }\n",
       "\n",
       "    .dataframe tbody tr th {\n",
       "        vertical-align: top;\n",
       "    }\n",
       "\n",
       "    .dataframe thead th {\n",
       "        text-align: right;\n",
       "    }\n",
       "</style>\n",
       "<table border=\"1\" class=\"dataframe\">\n",
       "  <thead>\n",
       "    <tr style=\"text-align: right;\">\n",
       "      <th></th>\n",
       "      <th>Mkt_RF</th>\n",
       "      <th>SMB</th>\n",
       "      <th>HML</th>\n",
       "      <th>RF</th>\n",
       "      <th>aapl</th>\n",
       "    </tr>\n",
       "    <tr>\n",
       "      <th>Date</th>\n",
       "      <th></th>\n",
       "      <th></th>\n",
       "      <th></th>\n",
       "      <th></th>\n",
       "      <th></th>\n",
       "    </tr>\n",
       "  </thead>\n",
       "  <tbody>\n",
       "    <tr>\n",
       "      <th>2000-02-29</th>\n",
       "      <td>0.0245</td>\n",
       "      <td>0.2142</td>\n",
       "      <td>-0.0970</td>\n",
       "      <td>0.0043</td>\n",
       "      <td>0.104820</td>\n",
       "    </tr>\n",
       "    <tr>\n",
       "      <th>2000-03-31</th>\n",
       "      <td>0.0520</td>\n",
       "      <td>-0.1723</td>\n",
       "      <td>0.0817</td>\n",
       "      <td>0.0047</td>\n",
       "      <td>0.184842</td>\n",
       "    </tr>\n",
       "    <tr>\n",
       "      <th>2000-04-30</th>\n",
       "      <td>-0.0640</td>\n",
       "      <td>-0.0668</td>\n",
       "      <td>0.0726</td>\n",
       "      <td>0.0046</td>\n",
       "      <td>-0.086517</td>\n",
       "    </tr>\n",
       "    <tr>\n",
       "      <th>2000-05-31</th>\n",
       "      <td>-0.0442</td>\n",
       "      <td>-0.0609</td>\n",
       "      <td>0.0481</td>\n",
       "      <td>0.0050</td>\n",
       "      <td>-0.322922</td>\n",
       "    </tr>\n",
       "    <tr>\n",
       "      <th>2000-06-30</th>\n",
       "      <td>0.0464</td>\n",
       "      <td>0.1285</td>\n",
       "      <td>-0.0843</td>\n",
       "      <td>0.0040</td>\n",
       "      <td>0.247024</td>\n",
       "    </tr>\n",
       "    <tr>\n",
       "      <th>...</th>\n",
       "      <td>...</td>\n",
       "      <td>...</td>\n",
       "      <td>...</td>\n",
       "      <td>...</td>\n",
       "      <td>...</td>\n",
       "    </tr>\n",
       "    <tr>\n",
       "      <th>2022-06-30</th>\n",
       "      <td>-0.0843</td>\n",
       "      <td>0.0209</td>\n",
       "      <td>-0.0597</td>\n",
       "      <td>0.0006</td>\n",
       "      <td>-0.081430</td>\n",
       "    </tr>\n",
       "    <tr>\n",
       "      <th>2022-07-31</th>\n",
       "      <td>0.0957</td>\n",
       "      <td>0.0281</td>\n",
       "      <td>-0.0410</td>\n",
       "      <td>0.0008</td>\n",
       "      <td>0.188634</td>\n",
       "    </tr>\n",
       "    <tr>\n",
       "      <th>2022-08-31</th>\n",
       "      <td>-0.0377</td>\n",
       "      <td>0.0139</td>\n",
       "      <td>0.0031</td>\n",
       "      <td>0.0019</td>\n",
       "      <td>-0.031208</td>\n",
       "    </tr>\n",
       "    <tr>\n",
       "      <th>2022-09-30</th>\n",
       "      <td>-0.0935</td>\n",
       "      <td>-0.0082</td>\n",
       "      <td>0.0003</td>\n",
       "      <td>0.0019</td>\n",
       "      <td>-0.120977</td>\n",
       "    </tr>\n",
       "    <tr>\n",
       "      <th>2022-10-31</th>\n",
       "      <td>0.0783</td>\n",
       "      <td>0.0010</td>\n",
       "      <td>0.0806</td>\n",
       "      <td>0.0023</td>\n",
       "      <td>0.109551</td>\n",
       "    </tr>\n",
       "  </tbody>\n",
       "</table>\n",
       "<p>273 rows × 5 columns</p>\n",
       "</div>"
      ],
      "text/plain": [
       "            Mkt_RF     SMB     HML      RF      aapl\n",
       "Date                                                \n",
       "2000-02-29  0.0245  0.2142 -0.0970  0.0043  0.104820\n",
       "2000-03-31  0.0520 -0.1723  0.0817  0.0047  0.184842\n",
       "2000-04-30 -0.0640 -0.0668  0.0726  0.0046 -0.086517\n",
       "2000-05-31 -0.0442 -0.0609  0.0481  0.0050 -0.322922\n",
       "2000-06-30  0.0464  0.1285 -0.0843  0.0040  0.247024\n",
       "...            ...     ...     ...     ...       ...\n",
       "2022-06-30 -0.0843  0.0209 -0.0597  0.0006 -0.081430\n",
       "2022-07-31  0.0957  0.0281 -0.0410  0.0008  0.188634\n",
       "2022-08-31 -0.0377  0.0139  0.0031  0.0019 -0.031208\n",
       "2022-09-30 -0.0935 -0.0082  0.0003  0.0019 -0.120977\n",
       "2022-10-31  0.0783  0.0010  0.0806  0.0023  0.109551\n",
       "\n",
       "[273 rows x 5 columns]"
      ]
     },
     "execution_count": 37,
     "metadata": {},
     "output_type": "execute_result"
    }
   ],
   "source": [
    "ff_data"
   ]
  },
  {
   "attachments": {},
   "cell_type": "markdown",
   "metadata": {},
   "source": [
    "## Fama French Three factors model\n",
    "\n",
    "$$ R_{it} - R_{ft} = \\alpha_{it} + \\beta_{1}(R_{mt}-R_{ft}) + \\beta_{2} \\text{SMB}_t + \\beta_{3} \\text{HML}_t + \\sigma\\epsilon_{it}$$"
   ]
  },
  {
   "cell_type": "code",
   "execution_count": 38,
   "metadata": {},
   "outputs": [],
   "source": [
    "y = np.array(ff_data['aapl'] - ff_data['RF'])\n",
    "x1 = np.array(ff_data['Mkt_RF'])\n",
    "x2 = np.array(ff_data['SMB'])\n",
    "x3 = np.array(ff_data['HML'])"
   ]
  },
  {
   "cell_type": "code",
   "execution_count": 39,
   "metadata": {},
   "outputs": [],
   "source": [
    "m = pm.Model()\n",
    "\n",
    "with m:\n",
    "    # Observed data\n",
    "    it_RF = pm.Data(\"it_RF\", y)\n",
    "    Mkt_RF = pm.Data(\"Mkt_RF\", x1)\n",
    "    SMB = pm.Data(\"SMB\", x2)\n",
    "    HML = pm.Data(\"HML\", x3)\n",
    "\n",
    "    # Priors\n",
    "    alpha_it = pm.Normal(\"alpha_it\", 0.0, 1.0)\n",
    "    beta_1 = pm.Normal(\"beta_1\", 0.0, 1.0)\n",
    "    beta_2 = pm.Normal(\"beta_2\", 0.0, 1.0)\n",
    "    beta_3 = pm.Normal(\"beta_3\", 0.0, 1.0)\n",
    "    sigma = pm.Uniform(\"sigma\", 0.001, 1.0)\n",
    "\n",
    "    # Likelihood (as denoted by `observed`)\n",
    "    obs_it_RF = pm.Normal(\"obs_it_RF\", alpha_it + beta_1*Mkt_RF + beta_2*SMB + beta_3*HML, sigma, observed=it_RF)"
   ]
  },
  {
   "cell_type": "code",
   "execution_count": 40,
   "metadata": {},
   "outputs": [
    {
     "name": "stderr",
     "output_type": "stream",
     "text": [
      "/Users/clairefan/.local/lib/python3.9/site-packages/deprecat/classic.py:215: FutureWarning: In v4.0, pm.sample will return an `arviz.InferenceData` object instead of a `MultiTrace` by default. You can pass return_inferencedata=True or return_inferencedata=False to be safe and silence this warning.\n",
      "  return wrapped_(*args_, **kwargs_)\n",
      "Auto-assigning NUTS sampler...\n",
      "Initializing NUTS using jitter+adapt_diag...\n",
      "Multiprocess sampling (4 chains in 4 jobs)\n",
      "NUTS: [sigma, beta_3, beta_2, beta_1, alpha_it]\n"
     ]
    },
    {
     "data": {
      "text/html": [
       "\n",
       "<style>\n",
       "    /* Turns off some styling */\n",
       "    progress {\n",
       "        /* gets rid of default border in Firefox and Opera. */\n",
       "        border: none;\n",
       "        /* Needs to be in here for Safari polyfill so background images work as expected. */\n",
       "        background-size: auto;\n",
       "    }\n",
       "    progress:not([value]), progress:not([value])::-webkit-progress-bar {\n",
       "        background: repeating-linear-gradient(45deg, #7e7e7e, #7e7e7e 10px, #5c5c5c 10px, #5c5c5c 20px);\n",
       "    }\n",
       "    .progress-bar-interrupted, .progress-bar-interrupted::-webkit-progress-bar {\n",
       "        background: #F44336;\n",
       "    }\n",
       "</style>\n"
      ],
      "text/plain": [
       "<IPython.core.display.HTML object>"
      ]
     },
     "metadata": {},
     "output_type": "display_data"
    },
    {
     "data": {
      "text/html": [
       "\n",
       "    <div>\n",
       "      <progress value='14000' class='' max='14000' style='width:300px; height:20px; vertical-align: middle;'></progress>\n",
       "      100.00% [14000/14000 00:03&lt;00:00 Sampling 4 chains, 0 divergences]\n",
       "    </div>\n",
       "    "
      ],
      "text/plain": [
       "<IPython.core.display.HTML object>"
      ]
     },
     "metadata": {},
     "output_type": "display_data"
    },
    {
     "name": "stderr",
     "output_type": "stream",
     "text": [
      "/Users/clairefan/opt/anaconda3/lib/python3.9/site-packages/scipy/stats/_continuous_distns.py:624: RuntimeWarning: overflow encountered in _beta_ppf\n",
      "  return _boost._beta_ppf(q, a, b)\n",
      "/Users/clairefan/opt/anaconda3/lib/python3.9/site-packages/scipy/stats/_continuous_distns.py:624: RuntimeWarning: overflow encountered in _beta_ppf\n",
      "  return _boost._beta_ppf(q, a, b)\n",
      "/Users/clairefan/opt/anaconda3/lib/python3.9/site-packages/scipy/stats/_continuous_distns.py:624: RuntimeWarning: overflow encountered in _beta_ppf\n",
      "  return _boost._beta_ppf(q, a, b)\n",
      "/Users/clairefan/opt/anaconda3/lib/python3.9/site-packages/scipy/stats/_continuous_distns.py:624: RuntimeWarning: overflow encountered in _beta_ppf\n",
      "  return _boost._beta_ppf(q, a, b)\n",
      "Sampling 4 chains for 1_500 tune and 2_000 draw iterations (6_000 + 8_000 draws total) took 18 seconds.\n"
     ]
    }
   ],
   "source": [
    "with m:\n",
    "    trace = pm.sample(2000, tune=1500)"
   ]
  },
  {
   "cell_type": "code",
   "execution_count": 41,
   "metadata": {},
   "outputs": [
    {
     "data": {
      "text/plain": [
       "Text(0.5, 1.0, 'sigma')"
      ]
     },
     "execution_count": 41,
     "metadata": {},
     "output_type": "execute_result"
    },
    {
     "data": {
      "image/png": "[encoded data removed]",
      "text/plain": [
       "<Figure size 1296x864 with 6 Axes>"
      ]
     },
     "metadata": {
      "needs_background": "light"
     },
     "output_type": "display_data"
    }
   ],
   "source": [
    "fig, ax = plt.subplots(3, 2, figsize=(18, 12))\n",
    "\n",
    "ax[0, 0].hist(trace[\"alpha_it\"], bins=50)\n",
    "ax[0, 0].set_title(\"alpha_it\")\n",
    "ax[0, 1].hist(trace[\"beta_1\"], bins=50)\n",
    "ax[0, 1].set_title(\"beta_1\")\n",
    "ax[1, 0].hist(trace[\"beta_2\"], bins=50)\n",
    "ax[1, 0].set_title(\"beta_2\")\n",
    "ax[1, 1].hist(trace[\"beta_3\"], bins=50)\n",
    "ax[1, 1].set_title(\"beta_3\")\n",
    "ax[2, 0].hist(trace[\"sigma\"], bins=50)\n",
    "ax[2, 0].set_title(\"sigma\")"
   ]
  },
  {
   "cell_type": "code",
   "execution_count": 42,
   "metadata": {},
   "outputs": [
    {
     "data": {
      "text/html": [
       "<div>\n",
       "<style scoped>\n",
       "    .dataframe tbody tr th:only-of-type {\n",
       "        vertical-align: middle;\n",
       "    }\n",
       "\n",
       "    .dataframe tbody tr th {\n",
       "        vertical-align: top;\n",
       "    }\n",
       "\n",
       "    .dataframe thead th {\n",
       "        text-align: right;\n",
       "    }\n",
       "</style>\n",
       "<table border=\"1\" class=\"dataframe\">\n",
       "  <thead>\n",
       "    <tr style=\"text-align: right;\">\n",
       "      <th></th>\n",
       "      <th>aapl</th>\n",
       "    </tr>\n",
       "    <tr>\n",
       "      <th>Date</th>\n",
       "      <th></th>\n",
       "    </tr>\n",
       "  </thead>\n",
       "  <tbody>\n",
       "    <tr>\n",
       "      <th>2000-02-29</th>\n",
       "      <td>0.241615</td>\n",
       "    </tr>\n",
       "    <tr>\n",
       "      <th>2000-03-31</th>\n",
       "      <td>0.106878</td>\n",
       "    </tr>\n",
       "    <tr>\n",
       "      <th>2000-04-30</th>\n",
       "      <td>-0.030256</td>\n",
       "    </tr>\n",
       "    <tr>\n",
       "      <th>2000-05-31</th>\n",
       "      <td>0.015722</td>\n",
       "    </tr>\n",
       "    <tr>\n",
       "      <th>2000-06-30</th>\n",
       "      <td>0.253010</td>\n",
       "    </tr>\n",
       "    <tr>\n",
       "      <th>...</th>\n",
       "      <td>...</td>\n",
       "    </tr>\n",
       "    <tr>\n",
       "      <th>2022-06-30</th>\n",
       "      <td>0.048687</td>\n",
       "    </tr>\n",
       "    <tr>\n",
       "      <th>2022-07-31</th>\n",
       "      <td>0.272789</td>\n",
       "    </tr>\n",
       "    <tr>\n",
       "      <th>2022-08-31</th>\n",
       "      <td>0.062431</td>\n",
       "    </tr>\n",
       "    <tr>\n",
       "      <th>2022-09-30</th>\n",
       "      <td>-0.011013</td>\n",
       "    </tr>\n",
       "    <tr>\n",
       "      <th>2022-10-31</th>\n",
       "      <td>0.155067</td>\n",
       "    </tr>\n",
       "  </tbody>\n",
       "</table>\n",
       "<p>273 rows × 1 columns</p>\n",
       "</div>"
      ],
      "text/plain": [
       "                aapl\n",
       "Date                \n",
       "2000-02-29  0.241615\n",
       "2000-03-31  0.106878\n",
       "2000-04-30 -0.030256\n",
       "2000-05-31  0.015722\n",
       "2000-06-30  0.253010\n",
       "...              ...\n",
       "2022-06-30  0.048687\n",
       "2022-07-31  0.272789\n",
       "2022-08-31  0.062431\n",
       "2022-09-30 -0.011013\n",
       "2022-10-31  0.155067\n",
       "\n",
       "[273 rows x 1 columns]"
      ]
     },
     "execution_count": 42,
     "metadata": {},
     "output_type": "execute_result"
    }
   ],
   "source": [
    "# Predict the return with all history data\n",
    "pre_ret_all = ff_data[\"RF\"] + trace[\"alpha_it\"].mean() + trace[\"beta_1\"].mean()*ff_data[\"Mkt_RF\"] + \\\n",
    "    trace[\"beta_2\"].mean()*ff_data[\"SMB\"] + trace[\"beta_3\"].mean()*ff_data[\"HML\"] + trace[\"sigma\"].mean()\n",
    "pre_ret_all = pd.DataFrame(pre_ret_all)\n",
    "pre_ret_all.columns = ['aapl']\n",
    "pre_ret_all"
   ]
  },
  {
   "cell_type": "code",
   "execution_count": 43,
   "metadata": {},
   "outputs": [
    {
     "data": {
      "text/plain": [
       "-0.01101275882741165"
      ]
     },
     "execution_count": 43,
     "metadata": {},
     "output_type": "execute_result"
    }
   ],
   "source": [
    "# Predict return with the second latest data (2022-09-30)\n",
    "pre_ret = ff_data.iloc[-2].RF + trace[\"alpha_it\"].mean() + trace[\"beta_1\"].mean()*ff_data.iloc[-2].Mkt_RF + \\\n",
    "    trace[\"beta_2\"].mean()*ff_data.iloc[-2].SMB + trace[\"beta_3\"].mean()*ff_data.iloc[-2].HML + trace[\"sigma\"].mean()\n",
    "pre_ret"
   ]
  },
  {
   "cell_type": "code",
   "execution_count": null,
   "metadata": {},
   "outputs": [],
   "source": [
    "# Calculate the real profit based on the latest data (2022-10-31)"
   ]
  }
 ],
 "metadata": {
  "kernelspec": {
   "display_name": "Python 3.9.12 ('base')",
   "language": "python",
   "name": "python3"
  },
  "language_info": {
   "codemirror_mode": {
    "name": "ipython",
    "version": 3
   },
   "file_extension": ".py",
   "mimetype": "text/x-python",
   "name": "python",
   "nbconvert_exporter": "python",
   "pygments_lexer": "ipython3",
   "version": "3.9.12"
  },
  "orig_nbformat": 4,
  "vscode": {
   "interpreter": {
    "hash": "b5ccd72b2f6f5e14cc967f30b6eab3584a9914705dc8ebc98f812b8a51b52374"
   }
  }
 },
 "nbformat": 4,
 "nbformat_minor": 2
}
